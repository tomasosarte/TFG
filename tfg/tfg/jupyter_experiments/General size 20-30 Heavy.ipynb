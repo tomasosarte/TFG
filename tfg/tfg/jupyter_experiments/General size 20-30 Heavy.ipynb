{
 "cells": [
  {
   "cell_type": "code",
   "execution_count": 1,
   "metadata": {},
   "outputs": [],
   "source": [
    "import os\n",
    "import sys\n",
    "import torch as th\n",
    "from time import time\n",
    "\n",
    "current_dir = os.getcwd()\n",
    "parent_dir = os.path.abspath(os.path.join(current_dir, '..'))\n",
    "sys.path.append(parent_dir)\n",
    "\n",
    "from params import default_params\n",
    "\n",
    "# ------------------------- ENVIRONMENTS ---------------------------\n",
    "from environments.environment_tsp import EnviornmentTSP\n",
    "# ----------------------------------------------------------------\n",
    "\n",
    "# ------------------------- NETWORKS -------------------------------\n",
    "from networks.attention_encoder_decoder import HeavyAttentionEncoderDecoder\n",
    "# ----------------------------------------------------------------\n",
    "\n",
    "# ------------------------- EXPERIMENTS ----------------------------\n",
    "from experiments.actor_critic_experiment import ActorCriticExperiment\n",
    "# ----------------------------------------------------------------\n",
    "\n",
    "# ------------------------- CONTROLLERS ----------------------\n",
    "from controllers.ac_controller import ActorCriticController\n",
    "# ------------------------------------------------------------------\n",
    "\n",
    "# ------------------------- LEARNERS --------------------------------\n",
    "from learners.biased_reinforce_learner import BiasedReinforceLearner\n",
    "from learners.actor_critic_learner import ActorCriticLearner\n",
    "from learners.ppo_learner import PPOLearner\n",
    "# ------------------------------------------------------------------\n",
    "\n",
    "# -------------------------- GENERATORS ----------------------------\n",
    "from generators.tsp_generator import TSPGenerator\n",
    "# ------------------------------------------------------------------\n",
    "\n",
    "# -------------------------- SOLVERS ----------------------------\n",
    "from solvers.gurobi_tsp import solve_tsp\n",
    "# ------------------------------------------------------------------"
   ]
  },
  {
   "cell_type": "code",
   "execution_count": 2,
   "metadata": {},
   "outputs": [
    {
     "name": "stdout",
     "output_type": "stream",
     "text": [
      "Device in use:  cpu\n",
      "Epsilon anneal time:  1240000.0\n",
      "Entropy anneal episodes:  1000.0\n",
      "Total transitions:  1550000\n"
     ]
    }
   ],
   "source": [
    "params = default_params()\n",
    "\n",
    "# Debugging outputs and plotting during training\n",
    "params['plot_frequency'] = 10\n",
    "params['plot_train_samples'] = True\n",
    "params['debug_messages'] = False\n",
    "params['print_dots'] = False\n",
    "\n",
    "# Environment parameters\n",
    "max_nodes_per_graph = 30\n",
    "params['env'] = 'tsp'\n",
    "params['node_dimension'] = 2\n",
    "params['max_nodes_per_graph'] = max_nodes_per_graph\n",
    "params['max_episode_length'] = max_nodes_per_graph + 1\n",
    "params['diff_cities'] = True\n",
    "params['use_training_set'] = False\n",
    "params['training_sizes'] = [20, 22, 24, 26, 28, 30]\n",
    "params['num_train_instance_per_size'] = 10\n",
    "params['cities'] = None\n",
    "\n",
    "# Runner parameters\n",
    "max_episodes = 1000\n",
    "rollouts_per_batch = 50\n",
    "params['max_episodes'] = max_episodes\n",
    "params['max_steps'] = params['max_episodes'] * params['max_episode_length'] * rollouts_per_batch\n",
    "params['multi_runner'] = False               \n",
    "params['parallel_environments'] = 2  \n",
    "\n",
    "# Exploration parameters\n",
    "pct_epsilon_anneal_time = 0.8\n",
    "params['use_epsilon_greedy'] = False\n",
    "params['epsilon_anneal_time'] =  pct_epsilon_anneal_time * params['max_steps']\n",
    "params['epsilon_finish'] = 1E-5\n",
    "params['epsilon_start'] = 1.0\n",
    "params['epsilon_decay'] = \"linear\"\n",
    "\n",
    "pct_entropy_anneal_time = 1.0\n",
    "params['entropy_regularization'] = True\n",
    "params['decay_entropy'] = True\n",
    "params['entropy_weight'] = 0.1\n",
    "params['entropy_weight_start'] = 1.0\n",
    "params['entropy_weight_end'] = 0.03\n",
    "params['entropy_anneal_time'] = pct_entropy_anneal_time * params['max_episodes']\n",
    "\n",
    "# Optimization parameters\n",
    "params['lr'] = 5E-4\n",
    "params['gamma'] = 0.99\n",
    "params['batch_size'] = params['max_episode_length'] * rollouts_per_batch\n",
    "params['grad_norm_clip'] = 1\n",
    "\n",
    "# Actor-critic parameters\n",
    "params['value_loss_param'] = 0.1\n",
    "params['advantage_bias'] = True\n",
    "params['advantage_bootstrap'] = True\n",
    "params['offpolicy_iterations'] = 10\n",
    "params['value_targets'] = 'td'\n",
    "\n",
    "# PPO parameters\n",
    "params['ppo_clipping'] = True\n",
    "params['ppo_clip_eps'] = 0.1\n",
    "\n",
    "# Network parameters\n",
    "params['embedding_dimension'] = 4                                    \n",
    "params['n_heads'] = 4               \n",
    "params['n_layers'] = 3 \n",
    "params['normalization'] = 'batch'\n",
    "params['feed_forward_hidden'] = 512      \n",
    "\n",
    "# Device\n",
    "# params['device'] = \"cuda\" if th.cuda.is_available() else \"cpu\"\n",
    "# th.device(params['device'])\n",
    "params['device'] = 'cpu'\n",
    "params['use_tqdm'] = False\n",
    "params['final_plot'] = False\n",
    "params['wandb'] = False\n",
    "\n",
    "print(\"Device in use: \", params['device'])\n",
    "print(\"Epsilon anneal time: \", params['epsilon_anneal_time'])\n",
    "print(\"Entropy anneal episodes: \", params['entropy_anneal_time'])\n",
    "print(\"Total transitions: \", params['max_steps'])"
   ]
  },
  {
   "cell_type": "markdown",
   "metadata": {},
   "source": [
    "## PPOLearner"
   ]
  },
  {
   "cell_type": "code",
   "execution_count": 3,
   "metadata": {},
   "outputs": [],
   "source": [
    "model = HeavyAttentionEncoderDecoder(params=params)\n",
    "env = EnviornmentTSP(params=params)\n",
    "\n",
    "# Run experiment\n",
    "experiment = ActorCriticExperiment(params, model, env, PPOLearner(model=model, params=params))"
   ]
  },
  {
   "cell_type": "code",
   "execution_count": null,
   "metadata": {},
   "outputs": [
    {
     "name": "stderr",
     "output_type": "stream",
     "text": [
      "Processing sizes:   0%|                                                                                                                                                | 0/11 [00:00<?, ?it/s]"
     ]
    },
    {
     "name": "stdout",
     "output_type": "stream",
     "text": [
      "Restricted license - for non-production use only - expires 2025-11-24\n"
     ]
    },
    {
     "name": "stderr",
     "output_type": "stream",
     "text": [
      "Processing sizes:  82%|███████████████████████████████████████████████████████████████████████████████████████████████████████████████▎                        | 9/11 [01:11<00:17,  8.65s/it]"
     ]
    }
   ],
   "source": [
    "test_sizes = [20,21,22,23,24,25,26,27,28,29,30]\n",
    "metadata = experiment.guroby_vs_greedy_rollout(sizes=test_sizes, num_episodes_per_size=10)\n",
    "print(f\"Average gap: {metadata['avg_gap']}%\")"
   ]
  },
  {
   "cell_type": "code",
   "execution_count": null,
   "metadata": {},
   "outputs": [],
   "source": [
    "metadata = experiment.guroby_vs_best_sample(sizes=test_sizes, num_episodes_per_size=10, runs_per_episode=10)\n",
    "print(f\"Average gap: {metadata['avg_gap']}%\")"
   ]
  },
  {
   "cell_type": "code",
   "execution_count": null,
   "metadata": {},
   "outputs": [],
   "source": [
    "start = time()\n",
    "experiment.run()\n",
    "end = time()\n",
    "total_time = end - start"
   ]
  },
  {
   "cell_type": "code",
   "execution_count": null,
   "metadata": {},
   "outputs": [],
   "source": [
    "print(\"Total spended time in experiment: \", total_time)"
   ]
  },
  {
   "cell_type": "code",
   "execution_count": null,
   "metadata": {},
   "outputs": [],
   "source": [
    "experiment.plot_rollout()"
   ]
  },
  {
   "cell_type": "code",
   "execution_count": null,
   "metadata": {},
   "outputs": [],
   "source": [
    "metadata = experiment.guroby_vs_greedy_rollout(sizes=test_sizes, num_episodes_per_size=10)\n",
    "print(f\"Average gap: {metadata['avg_gap']}%\")"
   ]
  },
  {
   "cell_type": "code",
   "execution_count": null,
   "metadata": {},
   "outputs": [],
   "source": [
    "metadata = experiment.guroby_vs_best_sample(sizes=test_sizes, num_episodes_per_size=10, runs_per_episode=10)\n",
    "print(f\"Average gap: {metadata['avg_gap']}%\")"
   ]
  }
 ],
 "metadata": {
  "kernelspec": {
   "display_name": "Python 3 (ipykernel)",
   "language": "python",
   "name": "python3"
  },
  "language_info": {
   "codemirror_mode": {
    "name": "ipython",
    "version": 3
   },
   "file_extension": ".py",
   "mimetype": "text/x-python",
   "name": "python",
   "nbconvert_exporter": "python",
   "pygments_lexer": "ipython3",
   "version": "3.12.3"
  }
 },
 "nbformat": 4,
 "nbformat_minor": 4
}
