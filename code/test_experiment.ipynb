{
 "cells": [
  {
   "cell_type": "code",
   "execution_count": 1,
   "metadata": {},
   "outputs": [],
   "source": [
    "import torch as th\n",
    "import optuna\n",
    "\n",
    "from environments.environment_tsp import EnviornmentTSP\n",
    "from networks.basic_network import BasicNetwork\n",
    "from params import default_params, set_tsp_params\n",
    "from experiments.actor_critic_experiment import ActorCriticExperiment\n",
    "from controllers.ac_controller import ActorCriticController\n",
    "from learners.reinforce_learner import ReinforceLearner\n",
    "from generators.tsp_generator import TSPGenerator"
   ]
  },
  {
   "cell_type": "code",
   "execution_count": 2,
   "metadata": {},
   "outputs": [],
   "source": [
    "# Get params\n",
    "params = default_params()\n",
    "\n",
    "# Set TSP params\n",
    "max_nodes_per_graph = 10\n",
    "embedding_dimension = 4\n",
    "max_episodes = 500\n",
    "# rollouts_in_batch = 50\n",
    "instance = 0\n",
    "\n",
    "params['problem'] = 'tsp'\n",
    "params['node_dimension'] = 2\n",
    "params['embedding_dimension'] = embedding_dimension\n",
    "params['max_nodes_per_graph'] = max_nodes_per_graph\n",
    "params['max_episode_length'] = max_nodes_per_graph + 1\n",
    "params['max_episodes'] = max_episodes\n",
    "\n",
    "\n",
    "# Create network\n",
    "basic_network = BasicNetwork(max_nodes_per_graph = params['max_nodes_per_graph'], \n",
    "                            node_dimension = params['node_dimension'], \n",
    "                            embedding_dimension = params['embedding_dimension'])\n",
    "\n",
    "# Create environment\n",
    "tsp_generator = TSPGenerator()\n",
    "# cities = tsp_generator.generate_instance(max_nodes_per_graph)\n",
    "# cities = th.tensor([[0.0, 0.0], [0.1, 0.1], [0.2, 0.2], [0.3, 0.3], [0.4, 0.4]], dtype=th.float32)\n",
    "cities = th.load(f\"training/tsp/size_{max_nodes_per_graph}/instance_{instance}.pt\") \n",
    "env = EnviornmentTSP(cities = cities, max_nodes_per_graph = params['max_nodes_per_graph'], node_dimension = params['node_dimension'])\n",
    "\n",
    "# Create learner \n",
    "controller = ActorCriticController(basic_network)\n",
    "learner = ReinforceLearner(model = basic_network, controller = controller, params = params)\n",
    "\n",
    "# Create the experiment\n",
    "experiment = ActorCriticExperiment(params = params, model = basic_network, env = env, learner = learner)"
   ]
  },
  {
   "cell_type": "code",
   "execution_count": 3,
   "metadata": {},
   "outputs": [
    {
     "data": {
      "image/png": "[encoded data removed]",
      "text/plain": [
       "<Figure size 800x600 with 1 Axes>"
      ]
     },
     "metadata": {},
     "output_type": "display_data"
    }
   ],
   "source": [
    "tsp_generator.plot_instance(cities=cities)"
   ]
  },
  {
   "cell_type": "code",
   "execution_count": null,
   "metadata": {},
   "outputs": [
    {
     "name": "stderr",
     "output_type": "stream",
     "text": [
      "[I 2024-04-21 12:58:44,552] A new study created in memory with name: no-name-ac9f00ab-ffa3-4f1c-a778-22c5478d9516\n",
      "[I 2024-04-21 13:05:03,474] Trial 0 finished with value: -5.436618804931641 and parameters: {'lr': 3.734395015352074e-05, 'entropy_weight': 0.43725295474440906, 'rollouts_in_batch': 61, 'pct_epsilon_anneal_time': 0.8370023983707295, 'epsilon_start': 0.6440897595128013, 'epsilon_finish': 0.6927141045986364, 'entropy_regularization': True}. Best is trial 0 with value: -5.436618804931641.\n",
      "[I 2024-04-21 13:07:16,376] Trial 1 finished with value: -6.249627113342285 and parameters: {'lr': 0.06424440237616155, 'entropy_weight': 0.07921741418960249, 'rollouts_in_batch': 22, 'pct_epsilon_anneal_time': 0.5722375147288337, 'epsilon_start': 0.7795202872155989, 'epsilon_finish': 0.31005637515259277, 'entropy_regularization': True}. Best is trial 0 with value: -5.436618804931641.\n",
      "[I 2024-04-21 13:09:34,325] Trial 2 finished with value: -5.390800952911377 and parameters: {'lr': 6.633428223345978e-05, 'entropy_weight': 0.5335946711777992, 'rollouts_in_batch': 22, 'pct_epsilon_anneal_time': 0.9428126087039856, 'epsilon_start': 0.824535136576907, 'epsilon_finish': 0.20229473830941103, 'entropy_regularization': True}. Best is trial 2 with value: -5.390800952911377.\n",
      "[I 2024-04-21 13:11:21,166] Trial 3 finished with value: -5.363662242889404 and parameters: {'lr': 3.136145260191701e-05, 'entropy_weight': 0.021321197636982037, 'rollouts_in_batch': 17, 'pct_epsilon_anneal_time': 0.9004274183170772, 'epsilon_start': 0.18549641570804853, 'epsilon_finish': 0.7110306950203366, 'entropy_regularization': False}. Best is trial 3 with value: -5.363662242889404.\n"
     ]
    }
   ],
   "source": [
    "def objective(trial):\n",
    "    # Define the hyperparameters as trial suggestions\n",
    "    lr = trial.suggest_float('lr', 1e-5, 1e-1, log=True)\n",
    "    entropy_weight = trial.suggest_float('entropy_weight', 0, 1)\n",
    "    rollouts_in_batch = trial.suggest_int('rollouts_in_batch', 1, 100)\n",
    "    pct_epsilon_anneal_time = trial.suggest_float('pct_epsilon_anneal_time', 0.5, 1)\n",
    "    epsilon_start = trial.suggest_float('epsilon_start', 0, 1)\n",
    "    epsilon_finish = trial.suggest_float('epsilon_finish', 0, 1)\n",
    "    entropy_regularization = trial.suggest_categorical('entropy_regularization', [True, False])\n",
    "\n",
    "    # Use these parameters to create components\n",
    "    params['batch_size'] = (max_nodes_per_graph + 1) * rollouts_in_batch\n",
    "    params['max_steps'] = params['max_episodes'] * (max_nodes_per_graph + 1) * rollouts_in_batch\n",
    "    params['epsilon_start'] = epsilon_start\n",
    "    params['epsilon_finish'] = epsilon_finish\n",
    "    params['epsilon_anneal_time'] = pct_epsilon_anneal_time * params['max_steps']\n",
    "    params['entropy_regularization'] = entropy_regularization\n",
    "    params['entropy_weight'] = entropy_weight\n",
    "    params['lr'] = lr\n",
    "    params['plot_frequency'] = None\n",
    "\n",
    "\n",
    "    basic_network = BasicNetwork(max_nodes_per_graph=params['max_nodes_per_graph'], \n",
    "                                 node_dimension=params['node_dimension'], \n",
    "                                 embedding_dimension=params['embedding_dimension'])\n",
    "    env = EnviornmentTSP(cities=cities, max_nodes_per_graph=params['max_nodes_per_graph'], \n",
    "                         node_dimension=params['node_dimension'])\n",
    "    controller = ActorCriticController(basic_network)\n",
    "    learner = ReinforceLearner(model=basic_network, controller=controller, params=params)\n",
    "    experiment = ActorCriticExperiment(params=params, model=basic_network, env=env, learner=learner)\n",
    "\n",
    "    # Perform training and return the evaluation metric\n",
    "    final_metric = experiment.run()  # Assume `run` returns a performance indicator\n",
    "    return final_metric\n",
    "\n",
    "study = optuna.create_study(direction='maximize')  # or 'minimize' if you're minimizing a metric\n",
    "study.optimize(objective, n_trials=25)  # You can adjust the number of trials"
   ]
  },
  {
   "cell_type": "code",
   "execution_count": null,
   "metadata": {},
   "outputs": [],
   "source": [
    "# Run the experiment\n",
    "experiment.run()"
   ]
  },
  {
   "cell_type": "code",
   "execution_count": null,
   "metadata": {},
   "outputs": [],
   "source": [
    "experiment.plot_rollout()"
   ]
  },
  {
   "cell_type": "code",
   "execution_count": null,
   "metadata": {},
   "outputs": [],
   "source": []
  }
 ],
 "metadata": {
  "kernelspec": {
   "display_name": "Python 3 (ipykernel)",
   "language": "python",
   "name": "python3"
  },
  "language_info": {
   "codemirror_mode": {
    "name": "ipython",
    "version": 3
   },
   "file_extension": ".py",
   "mimetype": "text/x-python",
   "name": "python",
   "nbconvert_exporter": "python",
   "pygments_lexer": "ipython3",
   "version": "3.11.7"
  }
 },
 "nbformat": 4,
 "nbformat_minor": 4
}
