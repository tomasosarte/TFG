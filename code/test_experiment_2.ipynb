{
 "cells": [
  {
   "cell_type": "code",
   "execution_count": 1,
   "metadata": {},
   "outputs": [],
   "source": [
    "import torch as th\n",
    "import optuna\n",
    "\n",
    "from environments.environment_tsp import EnviornmentTSP\n",
    "from networks.basic_network import BasicNetwork\n",
    "from networks.more_basic_net import MoreBasicNetwork\n",
    "from params import default_params, set_tsp_params\n",
    "from experiments.actor_critic_experiment import ActorCriticExperiment\n",
    "\n",
    "# ------------------------- CONTROLLERS ----------------------------\n",
    "from controllers.ac_controller import ActorCriticController\n",
    "from controllers.epsilon_greedy_controller import EpsilonGreedyController\n",
    "# ------------------------------------------------------------------\n",
    "\n",
    "# ------------------------- LEARNERS --------------------------------\n",
    "from learners.reinforce_learner import ReinforceLearner\n",
    "from learners.biased_reinforce_learner import BiasedReinforceLearner\n",
    "from learners.actor_critic_learner import ActorCriticLearner\n",
    "from learners.off_policy_actor_critic_learner import OffpolicyActorCriticLearner\n",
    "from learners.ppo_learner import PPOLearner\n",
    "# ------------------------------------------------------------------\n",
    "\n",
    "from generators.tsp_generator import TSPGenerator\n",
    "from exact_solvers.solver_tsp import solve_tsp"
   ]
  },
  {
   "cell_type": "code",
   "execution_count": 2,
   "metadata": {},
   "outputs": [
    {
     "data": {
      "image/png": "[encoded data removed]",
      "text/plain": [
       "<Figure size 800x600 with 1 Axes>"
      ]
     },
     "metadata": {},
     "output_type": "display_data"
    }
   ],
   "source": [
    "max_nodes_per_graph = 10\n",
    "instance = 0\n",
    "cities = th.load(f\"training/tsp/size_{max_nodes_per_graph}/instance_{instance}.pt\") \n",
    "tsp_generator = TSPGenerator()\n",
    "tsp_generator.plot_instance(cities)"
   ]
  },
  {
   "cell_type": "code",
   "execution_count": 3,
   "metadata": {},
   "outputs": [
    {
     "name": "stdout",
     "output_type": "stream",
     "text": [
      "Permutation: [0, 5, 3, 8, 7, 4, 6, 9, 1, 2]\n",
      "Distance: 2.9008774757385254\n"
     ]
    }
   ],
   "source": [
    "permutation, distance = solve_tsp(cities)\n",
    "print(f\"Permutation: {permutation}\\nDistance: {distance}\")"
   ]
  },
  {
   "cell_type": "code",
   "execution_count": 5,
   "metadata": {},
   "outputs": [
    {
     "name": "stdout",
     "output_type": "stream",
     "text": [
      "Epsilon anneal time:  309375.0\n",
      "Device in use:  cpu\n"
     ]
    },
    {
     "name": "stderr",
     "output_type": "stream",
     "text": [
      "/home/tomas/.local/lib/python3.10/site-packages/torch/cuda/__init__.py:138: UserWarning: CUDA initialization: CUDA unknown error - this may be due to an incorrectly set up environment, e.g. changing env variable CUDA_VISIBLE_DEVICES after program start. Setting the available devices to be zero. (Triggered internally at ../c10/cuda/CUDAFunctions.cpp:108.)\n",
      "  return torch._C._cuda_getDeviceCount() > 0\n"
     ]
    }
   ],
   "source": [
    "# Get params\n",
    "params = default_params()\n",
    "\n",
    "rollouts_per_batch = 50\n",
    "pct_epsilon_anneal_time = 0.75\n",
    "max_episodes = 750\n",
    "\n",
    "params['problem'] = 'tsp'\n",
    "params['node_dimension'] = 2\n",
    "params['max_nodes_per_graph'] = max_nodes_per_graph\n",
    "params['max_episode_length'] = max_nodes_per_graph + 1\n",
    "params['max_episodes'] = max_episodes\n",
    "params['batch_size'] = params['max_episode_length'] * rollouts_per_batch\n",
    "params['max_steps'] = params['max_episodes'] * params['max_episode_length'] * rollouts_per_batch\n",
    "params['epsilon_start'] = 0.9\n",
    "params['epsilon_finish'] = 1E-5\n",
    "params['epsilon_anneal_time'] =  pct_epsilon_anneal_time * params['max_steps']\n",
    "params['lr'] = 5E-4\n",
    "params['gamma'] = 0.99\n",
    "params['entropy_regularization'] = True\n",
    "params['entropy_weight'] = 0.1\n",
    "params['plot_frequency'] = 10\n",
    "print(\"Epsilon anneal time: \", params['epsilon_anneal_time'])\n",
    "print(\"Device in use: \", params['device'])"
   ]
  },
  {
   "cell_type": "code",
   "execution_count": null,
   "metadata": {},
   "outputs": [],
   "source": [
    "model = MoreBasicNetwork(params)\n",
    "env = EnviornmentTSP(cities, params)\n",
    "\n",
    "# Run experiment\n",
    "experiment = ActorCriticExperiment(params, model, env, ReinforceLearner(model, params))\n",
    "experiment.run()"
   ]
  },
  {
   "cell_type": "code",
   "execution_count": null,
   "metadata": {},
   "outputs": [],
   "source": [
    "experiment.plot_rollout()"
   ]
  },
  {
   "cell_type": "code",
   "execution_count": null,
   "metadata": {},
   "outputs": [],
   "source": [
    "params['advantage_bias'] = True\n",
    "params['value_targets'] = 'td'"
   ]
  },
  {
   "cell_type": "code",
   "execution_count": null,
   "metadata": {},
   "outputs": [],
   "source": [
    "model = MoreBasicNetwork(params)\n",
    "env = EnviornmentTSP(cities, params)\n",
    "\n",
    "# Run experiment\n",
    "experiment = ActorCriticExperiment(params, model, env, BiasedReinforceLearner(model, params))\n",
    "experiment.run()"
   ]
  },
  {
   "cell_type": "code",
   "execution_count": null,
   "metadata": {},
   "outputs": [],
   "source": [
    "experiment.plot_rollout()"
   ]
  },
  {
   "cell_type": "code",
   "execution_count": null,
   "metadata": {},
   "outputs": [],
   "source": [
    "params['advantage_bootstrap'] = True"
   ]
  },
  {
   "cell_type": "code",
   "execution_count": null,
   "metadata": {},
   "outputs": [],
   "source": [
    "model = MoreBasicNetwork(params)\n",
    "env = EnviornmentTSP(cities, params)\n",
    "\n",
    "# Run experiment\n",
    "experiment = ActorCriticExperiment(params, model, env, ActorCriticLearner(model, params))\n",
    "experiment.run()"
   ]
  },
  {
   "cell_type": "code",
   "execution_count": null,
   "metadata": {},
   "outputs": [],
   "source": [
    "experiment.plot_rollout()"
   ]
  },
  {
   "cell_type": "code",
   "execution_count": null,
   "metadata": {},
   "outputs": [],
   "source": [
    "params['offpolicy_iterations'] = 50"
   ]
  },
  {
   "cell_type": "code",
   "execution_count": null,
   "metadata": {},
   "outputs": [],
   "source": [
    "model = MoreBasicNetwork(params)\n",
    "env = EnviornmentTSP(cities, params)\n",
    "\n",
    "# Run experiment\n",
    "experiment = ActorCriticExperiment(params, model, env, OffpolicyActorCriticLearner(model, params))\n",
    "experiment.run()"
   ]
  },
  {
   "cell_type": "code",
   "execution_count": null,
   "metadata": {
    "scrolled": false
   },
   "outputs": [],
   "source": [
    "experiment.plot_rollout()"
   ]
  },
  {
   "cell_type": "code",
   "execution_count": null,
   "metadata": {},
   "outputs": [],
   "source": [
    "params['ppo_clipping'] = True\n",
    "params['ppo_clip_eps'] = 0.1"
   ]
  },
  {
   "cell_type": "code",
   "execution_count": null,
   "metadata": {},
   "outputs": [],
   "source": [
    "model = MoreBasicNetwork(params)\n",
    "env = EnviornmentTSP(cities, params)\n",
    "\n",
    "# Run experiment\n",
    "experiment = ActorCriticExperiment(params, model, env, PPOLearner(model, params))\n",
    "experiment.run()"
   ]
  },
  {
   "cell_type": "code",
   "execution_count": null,
   "metadata": {},
   "outputs": [],
   "source": [
    "experiment.plot_rollout()"
   ]
  },
  {
   "cell_type": "code",
   "execution_count": null,
   "metadata": {},
   "outputs": [],
   "source": [
    "def objective(trial):\n",
    "    # Define the hyperparameters as trial suggestions\n",
    "    lr = trial.suggest_float('lr', 1e-6, 1e-1, log=True)\n",
    "    pct_epsilon_anneal_time = trial.suggest_float('pct_epsilon_anneal_time', 0.3, 0.8)\n",
    "    epsilon_start = trial.suggest_float('epsilon_start', 0.5, 1)\n",
    "    epsilon_finish = trial.suggest_float('epsilon_finish', 0.00001, 0.5)\n",
    "\n",
    "    # Use these parameters to create components\n",
    "    params['epsilon_start'] = epsilon_start\n",
    "    params['epsilon_finish'] = epsilon_finish\n",
    "    params['epsilon_anneal_time'] = pct_epsilon_anneal_time * params['max_steps']\n",
    "    params['lr'] = lr\n",
    "    params['plot_frequency'] = None\n",
    "\n",
    "\n",
    "    model = MoreBasicNetwork(params)\n",
    "    env = EnviornmentTSP(cities, params)\n",
    "    experiment = ActorCriticExperiment(params, model, env, ReinforceLearner(model, params))\n",
    "\n",
    "    # Perform training and return the evaluation metric\n",
    "    final_metric = experiment.run()  # Assume `run` returns a performance indicator\n",
    "    return final_metric\n",
    "\n",
    "study = optuna.create_study(direction='maximize')  # or 'minimize' if you're minimizing a metric\n",
    "study.optimize(objective, n_trials=25)  # You can adjust the number of trials"
   ]
  }
 ],
 "metadata": {
  "kernelspec": {
   "display_name": "Python 3 (ipykernel)",
   "language": "python",
   "name": "python3"
  },
  "language_info": {
   "codemirror_mode": {
    "name": "ipython",
    "version": 3
   },
   "file_extension": ".py",
   "mimetype": "text/x-python",
   "name": "python",
   "nbconvert_exporter": "python",
   "pygments_lexer": "ipython3",
   "version": "3.10.12"
  }
 },
 "nbformat": 4,
 "nbformat_minor": 4
}
